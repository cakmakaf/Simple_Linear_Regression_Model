{
 "cells": [
  {
   "cell_type": "code",
   "execution_count": 10,
   "metadata": {},
   "outputs": [
    {
     "name": "stdout",
     "output_type": "stream",
     "text": [
      "    Months\n",
      "0        8\n",
      "1       10\n",
      "2       11\n",
      "3       13\n",
      "4       14\n",
      "5       19\n",
      "6       19\n",
      "7       20\n",
      "8       20\n",
      "9       24\n",
      "10      25\n",
      "11      25\n",
      "12      25\n",
      "13      26\n",
      "14      29\n",
      "15      31\n",
      "16      32\n",
      "17      34\n",
      "18      37\n",
      "19      37\n",
      "20      42\n",
      "21      44\n",
      "22      49\n",
      "23      50\n",
      "24      54\n",
      "25      55\n",
      "26      59\n",
      "27      59\n",
      "28      64\n",
      "29      65\n",
      "      Sells\n",
      "0   19671.5\n",
      "1   23102.5\n",
      "2   18865.5\n",
      "3   21762.5\n",
      "4   19945.5\n",
      "5   28321.0\n",
      "6   30075.0\n",
      "7   27222.5\n",
      "8   32222.5\n",
      "9   28594.5\n",
      "10  31609.0\n",
      "11  27897.0\n",
      "12  28478.5\n",
      "13  28540.5\n",
      "14  30555.5\n",
      "15  33969.0\n",
      "16  33014.5\n",
      "17  41544.0\n",
      "18  40681.5\n",
      "19  46970.0\n",
      "20  45869.0\n",
      "21  49136.5\n",
      "22  50651.0\n",
      "23  56906.0\n",
      "24  54715.5\n",
      "25  52791.0\n",
      "26  58484.5\n",
      "27  56317.5\n",
      "28  61195.5\n",
      "29  60936.0\n"
     ]
    },
    {
     "data": {
      "text/plain": [
       "Text(0,0.5,'Sells')"
      ]
     },
     "execution_count": 10,
     "metadata": {},
     "output_type": "execute_result"
    },
    {
     "data": {
      "image/png": "[encoded data removed]",
      "text/plain": [
       "<Figure size 432x288 with 1 Axes>"
      ]
     },
     "metadata": {},
     "output_type": "display_data"
    }
   ],
   "source": [
    "#import the libraries\n",
    "import numpy as np\n",
    "import matplotlib.pyplot as plt\n",
    "import pandas as pd\n",
    "\n",
    "#preprocessthe data set\n",
    "data_set = pd.read_csv('sells.csv')\n",
    "\n",
    "months = data_set[['Months']]\n",
    "print(months)\n",
    "\n",
    "sells = data_set[['Sells']]\n",
    "print(sells)\n",
    "\n",
    "\n",
    "#train the data set and split it as train and test set\n",
    "from sklearn.cross_validation import train_test_split\n",
    "x_train, x_test,y_train,y_test = train_test_split(months,sells,test_size=0.33, random_state=0)\n",
    " \n",
    "    \n",
    "# create a linear regression model\n",
    "from sklearn.linear_model import LinearRegression\n",
    "lr = LinearRegression()\n",
    "lr.fit(x_train,y_train)\n",
    "\n",
    "tahmin = lr.predict(x_test)\n",
    "\n",
    "x_train = x_train.sort_index()\n",
    "y_train = y_train.sort_index()\n",
    "\n",
    "plt.plot(x_train,y_train)\n",
    "plt.plot(x_test,lr.predict(x_test))\n",
    "\n",
    "plt.title(\"Monthly Sells\")\n",
    "plt.xlabel(\"Months\")\n",
    "plt.ylabel(\"Sells\")"
   ]
  },
  {
   "cell_type": "code",
   "execution_count": null,
   "metadata": {},
   "outputs": [],
   "source": []
  }
 ],
 "metadata": {
  "kernelspec": {
   "display_name": "Python 3",
   "language": "python",
   "name": "python3"
  },
  "language_info": {
   "codemirror_mode": {
    "name": "ipython",
    "version": 3
   },
   "file_extension": ".py",
   "mimetype": "text/x-python",
   "name": "python",
   "nbconvert_exporter": "python",
   "pygments_lexer": "ipython3",
   "version": "3.6.5"
  }
 },
 "nbformat": 4,
 "nbformat_minor": 2
}
